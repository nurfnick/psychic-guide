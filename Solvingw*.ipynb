{
  "nbformat": 4,
  "nbformat_minor": 0,
  "metadata": {
    "colab": {
      "provenance": [],
      "authorship_tag": "ABX9TyN5Xqjj/KjgmKA3KQWuakEf",
      "include_colab_link": true
    },
    "kernelspec": {
      "name": "python3",
      "display_name": "Python 3"
    },
    "language_info": {
      "name": "python"
    }
  },
  "cells": [
    {
      "cell_type": "markdown",
      "metadata": {
        "id": "view-in-github",
        "colab_type": "text"
      },
      "source": [
        "<a href=\"https://colab.research.google.com/github/nurfnick/psychic-guide/blob/main/Solvingw*.ipynb\" target=\"_parent\"><img src=\"https://colab.research.google.com/assets/colab-badge.svg\" alt=\"Open In Colab\"/></a>"
      ]
    },
    {
      "cell_type": "code",
      "execution_count": 6,
      "metadata": {
        "id": "YTUl8Nn1ugna"
      },
      "outputs": [],
      "source": [
        "from sympy import *\n",
        "import numpy as np\n",
        "import matplotlib.pyplot as plt\n",
        "\n",
        "u,a,b = symbols('u,a,b')\n",
        "\n",
        "sol = solve(E**(-u)-a+b*u, u)"
      ]
    },
    {
      "cell_type": "code",
      "source": [
        "sol"
      ],
      "metadata": {
        "colab": {
          "base_uri": "https://localhost:8080/"
        },
        "id": "jyykI0WUv6bI",
        "outputId": "a13a4665-5d15-45c2-b0f3-7e0af3987516"
      },
      "execution_count": 7,
      "outputs": [
        {
          "output_type": "execute_result",
          "data": {
            "text/plain": [
              "[a/b + LambertW(-exp(-a/b)/b)]"
            ]
          },
          "metadata": {},
          "execution_count": 7
        }
      ]
    },
    {
      "cell_type": "code",
      "source": [
        "N(sol[0].subs(a,0).subs(b,1))"
      ],
      "metadata": {
        "colab": {
          "base_uri": "https://localhost:8080/",
          "height": 38
        },
        "id": "P5U2NwjouyhP",
        "outputId": "caa1e1ed-5ccd-4782-ca61-7159e9182325"
      },
      "execution_count": 12,
      "outputs": [
        {
          "output_type": "execute_result",
          "data": {
            "text/plain": [
              "-0.318131505204764 + 1.33723570143069*I"
            ],
            "text/latex": "$\\displaystyle -0.318131505204764 + 1.33723570143069 i$"
          },
          "metadata": {},
          "execution_count": 12
        }
      ]
    },
    {
      "cell_type": "code",
      "source": [
        "N(sol[1])"
      ],
      "metadata": {
        "colab": {
          "base_uri": "https://localhost:8080/",
          "height": 37
        },
        "id": "KVas_939vqPz",
        "outputId": "618e0044-6bd3-4deb-ce40-d40b0c06dde9"
      },
      "execution_count": null,
      "outputs": [
        {
          "output_type": "execute_result",
          "data": {
            "text/plain": [
              "-2.12539119881113"
            ],
            "text/latex": "$\\displaystyle -2.12539119881113$"
          },
          "metadata": {},
          "execution_count": 21
        }
      ]
    },
    {
      "cell_type": "code",
      "source": [
        "def f(u,a,b):\n",
        "  return a -b*u-np.exp(-u)\n",
        "\n",
        "f(0,1,1)"
      ],
      "metadata": {
        "id": "aH4LrNYWv1gp",
        "colab": {
          "base_uri": "https://localhost:8080/"
        },
        "outputId": "bede494d-4638-4253-f78b-03ce637a4b6e"
      },
      "execution_count": 35,
      "outputs": [
        {
          "output_type": "execute_result",
          "data": {
            "text/plain": [
              "0.0"
            ]
          },
          "metadata": {},
          "execution_count": 35
        }
      ]
    },
    {
      "cell_type": "code",
      "source": [
        "g = a/b + LambertW(-E**(-a/b)/b,-1)\n",
        "g"
      ],
      "metadata": {
        "id": "C5eKwjPWfdK8",
        "outputId": "3ad319ca-bfbb-4d42-b091-8622aa42f19a",
        "colab": {
          "base_uri": "https://localhost:8080/",
          "height": 59
        }
      },
      "execution_count": 33,
      "outputs": [
        {
          "output_type": "execute_result",
          "data": {
            "text/plain": [
              "a/b + LambertW(-exp(-a/b)/b, -1)"
            ],
            "text/latex": "$\\displaystyle \\frac{a}{b} + W_{-1}\\left(- \\frac{e^{- \\frac{a}{b}}}{b}\\right)$"
          },
          "metadata": {},
          "execution_count": 33
        }
      ]
    },
    {
      "cell_type": "code",
      "source": [
        "\n",
        "\n",
        "x = np.linspace(-3,2,1000)\n",
        "y = f(x,2,3)\n",
        "\n",
        "u = N(sol[0].subs(a,2).subs(b,3))\n",
        "u2 = N(g.subs(a,2).subs(b,3))\n",
        "\n",
        "plt.plot(x,y)\n",
        "plt.scatter([u,u2],[0,0])\n",
        "plt.show()"
      ],
      "metadata": {
        "id": "elkHJFPFdxZP",
        "outputId": "0b23bbae-97f7-44a6-8d4c-a52f71c75af4",
        "colab": {
          "base_uri": "https://localhost:8080/",
          "height": 430
        }
      },
      "execution_count": 37,
      "outputs": [
        {
          "output_type": "display_data",
          "data": {
            "text/plain": [
              "<Figure size 640x480 with 1 Axes>"
            ],
            "image/png": "[encoded data removed]"
          },
          "metadata": {}
        }
      ]
    },
    {
      "cell_type": "code",
      "source": [
        "N(sol[0].subs(a,2).subs(b,3))"
      ],
      "metadata": {
        "id": "2Y9eEyjYeKKX",
        "outputId": "040dd4b1-6572-4fca-9b92-54fa2a933701",
        "colab": {
          "base_uri": "https://localhost:8080/",
          "height": 37
        }
      },
      "execution_count": 20,
      "outputs": [
        {
          "output_type": "execute_result",
          "data": {
            "text/plain": [
              "0.455233355585190"
            ],
            "text/latex": "$\\displaystyle 0.45523335558519$"
          },
          "metadata": {},
          "execution_count": 20
        }
      ]
    },
    {
      "cell_type": "code",
      "source": [
        "sol"
      ],
      "metadata": {
        "id": "80iJnN02faFz",
        "outputId": "90baa1a6-db64-4f70-afd6-78c4cab4a187",
        "colab": {
          "base_uri": "https://localhost:8080/"
        }
      },
      "execution_count": 26,
      "outputs": [
        {
          "output_type": "execute_result",
          "data": {
            "text/plain": [
              "[a/b + LambertW(-exp(-a/b)/b)]"
            ]
          },
          "metadata": {},
          "execution_count": 26
        }
      ]
    },
    {
      "cell_type": "code",
      "source": [
        "N(f.subs(a,2).subs(b,3))"
      ],
      "metadata": {
        "id": "ZS-Lc2ljgiw2",
        "outputId": "d4c4e45a-641f-43d4-ebe5-34685d4656b5",
        "colab": {
          "base_uri": "https://localhost:8080/",
          "height": 37
        }
      },
      "execution_count": 29,
      "outputs": [
        {
          "output_type": "execute_result",
          "data": {
            "text/plain": [
              "-2.12539119881113"
            ],
            "text/latex": "$\\displaystyle -2.12539119881113$"
          },
          "metadata": {},
          "execution_count": 29
        }
      ]
    },
    {
      "cell_type": "code",
      "source": [],
      "metadata": {
        "id": "W3y3IK53goe3"
      },
      "execution_count": null,
      "outputs": []
    }
  ]
}