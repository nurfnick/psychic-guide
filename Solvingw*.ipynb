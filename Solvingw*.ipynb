{
  "nbformat": 4,
  "nbformat_minor": 0,
  "metadata": {
    "colab": {
      "provenance": [],
      "authorship_tag": "ABX9TyPPcB4T8cYBxEc+zD5zYQU4",
      "include_colab_link": true
    },
    "kernelspec": {
      "name": "python3",
      "display_name": "Python 3"
    },
    "language_info": {
      "name": "python"
    }
  },
  "cells": [
    {
      "cell_type": "markdown",
      "metadata": {
        "id": "view-in-github",
        "colab_type": "text"
      },
      "source": [
        "<a href=\"https://colab.research.google.com/github/nurfnick/psychic-guide/blob/main/Solvingw*.ipynb\" target=\"_parent\"><img src=\"https://colab.research.google.com/assets/colab-badge.svg\" alt=\"Open In Colab\"/></a>"
      ]
    },
    {
      "cell_type": "code",
      "execution_count": 18,
      "metadata": {
        "id": "YTUl8Nn1ugna"
      },
      "outputs": [],
      "source": [
        "from sympy import *\n",
        "\n",
        "x = Symbol('x')\n",
        "\n",
        "sol = solve(sympy.E**(-x)-2+3*x, x)"
      ]
    },
    {
      "cell_type": "code",
      "source": [
        "sol"
      ],
      "metadata": {
        "colab": {
          "base_uri": "https://localhost:8080/"
        },
        "id": "jyykI0WUv6bI",
        "outputId": "d4f64f92-d5ba-4187-f7b4-3a4980cad912"
      },
      "execution_count": 22,
      "outputs": [
        {
          "output_type": "execute_result",
          "data": {
            "text/plain": [
              "[LambertW(-exp(-2/3)/3) + 2/3, LambertW(-exp(-2/3)/3, -1) + 2/3]"
            ]
          },
          "metadata": {},
          "execution_count": 22
        }
      ]
    },
    {
      "cell_type": "code",
      "source": [
        "sympy.N(sol[0])"
      ],
      "metadata": {
        "colab": {
          "base_uri": "https://localhost:8080/",
          "height": 37
        },
        "id": "P5U2NwjouyhP",
        "outputId": "584143b7-8526-4c52-b275-c47306df6809"
      },
      "execution_count": 19,
      "outputs": [
        {
          "output_type": "execute_result",
          "data": {
            "text/plain": [
              "0.455233355585190"
            ],
            "text/latex": "$\\displaystyle 0.45523335558519$"
          },
          "metadata": {},
          "execution_count": 19
        }
      ]
    },
    {
      "cell_type": "code",
      "source": [
        "N(sol[1])"
      ],
      "metadata": {
        "colab": {
          "base_uri": "https://localhost:8080/",
          "height": 37
        },
        "id": "KVas_939vqPz",
        "outputId": "618e0044-6bd3-4deb-ce40-d40b0c06dde9"
      },
      "execution_count": 21,
      "outputs": [
        {
          "output_type": "execute_result",
          "data": {
            "text/plain": [
              "-2.12539119881113"
            ],
            "text/latex": "$\\displaystyle -2.12539119881113$"
          },
          "metadata": {},
          "execution_count": 21
        }
      ]
    },
    {
      "cell_type": "code",
      "source": [],
      "metadata": {
        "id": "aH4LrNYWv1gp"
      },
      "execution_count": null,
      "outputs": []
    }
  ]
}