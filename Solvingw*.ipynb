{
  "nbformat": 4,
  "nbformat_minor": 0,
  "metadata": {
    "colab": {
      "provenance": [],
      "authorship_tag": "ABX9TyORLJfZ7VtlJeEHP/xbX1vx",
      "include_colab_link": true
    },
    "kernelspec": {
      "name": "python3",
      "display_name": "Python 3"
    },
    "language_info": {
      "name": "python"
    }
  },
  "cells": [
    {
      "cell_type": "markdown",
      "metadata": {
        "id": "view-in-github",
        "colab_type": "text"
      },
      "source": [
        "<a href=\"https://colab.research.google.com/github/nurfnick/psychic-guide/blob/main/Solvingw*.ipynb\" target=\"_parent\"><img src=\"https://colab.research.google.com/assets/colab-badge.svg\" alt=\"Open In Colab\"/></a>"
      ]
    },
    {
      "cell_type": "code",
      "execution_count": 6,
      "metadata": {
        "id": "YTUl8Nn1ugna"
      },
      "outputs": [],
      "source": [
        "from sympy import *\n",
        "\n",
        "u,a,b = symbols('u,a,b')\n",
        "\n",
        "sol = solve(E**(-u)-a+b*u, u)"
      ]
    },
    {
      "cell_type": "code",
      "source": [
        "sol"
      ],
      "metadata": {
        "colab": {
          "base_uri": "https://localhost:8080/"
        },
        "id": "jyykI0WUv6bI",
        "outputId": "a13a4665-5d15-45c2-b0f3-7e0af3987516"
      },
      "execution_count": 7,
      "outputs": [
        {
          "output_type": "execute_result",
          "data": {
            "text/plain": [
              "[a/b + LambertW(-exp(-a/b)/b)]"
            ]
          },
          "metadata": {},
          "execution_count": 7
        }
      ]
    },
    {
      "cell_type": "code",
      "source": [
        "N(sol[0].subs(a,0).subs(b,1))"
      ],
      "metadata": {
        "colab": {
          "base_uri": "https://localhost:8080/",
          "height": 38
        },
        "id": "P5U2NwjouyhP",
        "outputId": "caa1e1ed-5ccd-4782-ca61-7159e9182325"
      },
      "execution_count": 12,
      "outputs": [
        {
          "output_type": "execute_result",
          "data": {
            "text/plain": [
              "-0.318131505204764 + 1.33723570143069*I"
            ],
            "text/latex": "$\\displaystyle -0.318131505204764 + 1.33723570143069 i$"
          },
          "metadata": {},
          "execution_count": 12
        }
      ]
    },
    {
      "cell_type": "code",
      "source": [
        "N(sol[1])"
      ],
      "metadata": {
        "colab": {
          "base_uri": "https://localhost:8080/",
          "height": 37
        },
        "id": "KVas_939vqPz",
        "outputId": "618e0044-6bd3-4deb-ce40-d40b0c06dde9"
      },
      "execution_count": null,
      "outputs": [
        {
          "output_type": "execute_result",
          "data": {
            "text/plain": [
              "-2.12539119881113"
            ],
            "text/latex": "$\\displaystyle -2.12539119881113$"
          },
          "metadata": {},
          "execution_count": 21
        }
      ]
    },
    {
      "cell_type": "code",
      "source": [],
      "metadata": {
        "id": "aH4LrNYWv1gp"
      },
      "execution_count": null,
      "outputs": []
    }
  ]
}