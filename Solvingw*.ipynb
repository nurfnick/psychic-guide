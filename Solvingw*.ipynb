{
  "nbformat": 4,
  "nbformat_minor": 0,
  "metadata": {
    "colab": {
      "provenance": [],
      "authorship_tag": "ABX9TyOy0crypGjnHGJ6730oZGeF",
      "include_colab_link": true
    },
    "kernelspec": {
      "name": "python3",
      "display_name": "Python 3"
    },
    "language_info": {
      "name": "python"
    }
  },
  "cells": [
    {
      "cell_type": "markdown",
      "metadata": {
        "id": "view-in-github",
        "colab_type": "text"
      },
      "source": [
        "<a href=\"https://colab.research.google.com/github/nurfnick/psychic-guide/blob/main/Solvingw*.ipynb\" target=\"_parent\"><img src=\"https://colab.research.google.com/assets/colab-badge.svg\" alt=\"Open In Colab\"/></a>"
      ]
    },
    {
      "cell_type": "code",
      "execution_count": 1,
      "metadata": {
        "id": "YTUl8Nn1ugna"
      },
      "outputs": [],
      "source": [
        "from sympy import *\n",
        "import numpy as np\n",
        "import matplotlib.pyplot as plt\n",
        "\n",
        "u,a,b = symbols('u,a,b')\n",
        "\n",
        "sol = solve(E**(-u)-a+b*u, u)"
      ]
    },
    {
      "cell_type": "code",
      "source": [
        "sol"
      ],
      "metadata": {
        "colab": {
          "base_uri": "https://localhost:8080/"
        },
        "id": "jyykI0WUv6bI",
        "outputId": "1eb15d3f-17be-4e25-8d37-2886df9401fa"
      },
      "execution_count": 2,
      "outputs": [
        {
          "output_type": "execute_result",
          "data": {
            "text/plain": [
              "[a/b + LambertW(-exp(-a/b)/b)]"
            ]
          },
          "metadata": {},
          "execution_count": 2
        }
      ]
    },
    {
      "cell_type": "code",
      "source": [
        "N(sol[0].subs(a,0).subs(b,1))"
      ],
      "metadata": {
        "colab": {
          "base_uri": "https://localhost:8080/",
          "height": 39
        },
        "id": "P5U2NwjouyhP",
        "outputId": "d2426ffe-8117-41c8-96a6-2db267c0ab7b"
      },
      "execution_count": 3,
      "outputs": [
        {
          "output_type": "execute_result",
          "data": {
            "text/plain": [
              "-0.318131505204764 + 1.33723570143069*I"
            ],
            "text/latex": "$\\displaystyle -0.318131505204764 + 1.33723570143069 i$"
          },
          "metadata": {},
          "execution_count": 3
        }
      ]
    },
    {
      "cell_type": "code",
      "source": [
        "def f(u,a,b):\n",
        "  return a -b*u-np.exp(-u)\n",
        "\n",
        "f(0,1,1)"
      ],
      "metadata": {
        "id": "aH4LrNYWv1gp",
        "colab": {
          "base_uri": "https://localhost:8080/"
        },
        "outputId": "f33d1628-4a49-4dd4-c5e7-fde02893e1d0"
      },
      "execution_count": 5,
      "outputs": [
        {
          "output_type": "execute_result",
          "data": {
            "text/plain": [
              "0.0"
            ]
          },
          "metadata": {},
          "execution_count": 5
        }
      ]
    },
    {
      "cell_type": "code",
      "source": [
        "g = a/b + LambertW(-E**(-a/b)/b,-1)\n",
        "g"
      ],
      "metadata": {
        "colab": {
          "base_uri": "https://localhost:8080/",
          "height": 59
        },
        "id": "C5eKwjPWfdK8",
        "outputId": "89a5f7c7-a446-4d9a-9b60-aef94e7c3eee"
      },
      "execution_count": 6,
      "outputs": [
        {
          "output_type": "execute_result",
          "data": {
            "text/plain": [
              "a/b + LambertW(-exp(-a/b)/b, -1)"
            ],
            "text/latex": "$\\displaystyle \\frac{a}{b} + W_{-1}\\left(- \\frac{e^{- \\frac{a}{b}}}{b}\\right)$"
          },
          "metadata": {},
          "execution_count": 6
        }
      ]
    },
    {
      "cell_type": "code",
      "source": [
        "\n",
        "\n",
        "x = np.linspace(-3,2,1000)\n",
        "y = f(x,2,3)\n",
        "\n",
        "u = N(sol[0].subs(a,2).subs(b,3))\n",
        "u2 = N(g.subs(a,2).subs(b,3))\n",
        "\n",
        "plt.plot(x,y)\n",
        "plt.scatter(u,0,c = 'r',label = \"stable\")\n",
        "plt.scatter(u2,0,c = 'g', label = \"unstable\")\n",
        "plt.scatter([u,u2],[0,0], c = ['r','g'])\n",
        "plt.legend()\n",
        "plt.show()"
      ],
      "metadata": {
        "colab": {
          "base_uri": "https://localhost:8080/",
          "height": 430
        },
        "id": "elkHJFPFdxZP",
        "outputId": "c405e47c-ae3e-4b37-f882-c80f5fd89311"
      },
      "execution_count": 12,
      "outputs": [
        {
          "output_type": "display_data",
          "data": {
            "text/plain": [
              "<Figure size 640x480 with 1 Axes>"
            ],
            "image/png": "[encoded data removed]"
          },
          "metadata": {}
        }
      ]
    },
    {
      "cell_type": "code",
      "source": [
        "a0 = 2\n",
        "b0 = 1\n",
        "\n",
        "x = np.linspace(-2,2,1000)\n",
        "y = f(x,a0,b0)\n",
        "\n",
        "u = N(sol[0].subs(a,a0).subs(b,b0))\n",
        "u2 = N(g.subs(a,a0).subs(b,b0))\n",
        "\n",
        "plt.plot(x,y)\n",
        "plt.scatter(u,0,c = 'r',label = \"stable\")\n",
        "plt.scatter(u2,0,c = 'g', label = \"unstable\")\n",
        "plt.scatter([u,u2],[0,0], c = ['r','g'])\n",
        "plt.legend()\n",
        "plt.show()"
      ],
      "metadata": {
        "id": "llul_vwnuA1t",
        "outputId": "6c357006-57c0-49e4-ed38-548538298028",
        "colab": {
          "base_uri": "https://localhost:8080/",
          "height": 430
        }
      },
      "execution_count": 26,
      "outputs": [
        {
          "output_type": "display_data",
          "data": {
            "text/plain": [
              "<Figure size 640x480 with 1 Axes>"
            ],
            "image/png": "[encoded data removed]"
          },
          "metadata": {}
        }
      ]
    },
    {
      "cell_type": "code",
      "source": [
        "\n",
        "N(sol[0].subs(a,2).subs(b,3))"
      ],
      "metadata": {
        "colab": {
          "base_uri": "https://localhost:8080/",
          "height": 37
        },
        "id": "2Y9eEyjYeKKX",
        "outputId": "040dd4b1-6572-4fca-9b92-54fa2a933701"
      },
      "execution_count": null,
      "outputs": [
        {
          "output_type": "execute_result",
          "data": {
            "text/plain": [
              "0.455233355585190"
            ],
            "text/latex": "$\\displaystyle 0.45523335558519$"
          },
          "metadata": {},
          "execution_count": 20
        }
      ]
    },
    {
      "cell_type": "code",
      "source": [
        "sol"
      ],
      "metadata": {
        "colab": {
          "base_uri": "https://localhost:8080/"
        },
        "id": "80iJnN02faFz",
        "outputId": "90baa1a6-db64-4f70-afd6-78c4cab4a187"
      },
      "execution_count": null,
      "outputs": [
        {
          "output_type": "execute_result",
          "data": {
            "text/plain": [
              "[a/b + LambertW(-exp(-a/b)/b)]"
            ]
          },
          "metadata": {},
          "execution_count": 26
        }
      ]
    },
    {
      "cell_type": "code",
      "source": [
        "N(f.subs(a,2).subs(b,3))"
      ],
      "metadata": {
        "colab": {
          "base_uri": "https://localhost:8080/",
          "height": 37
        },
        "id": "ZS-Lc2ljgiw2",
        "outputId": "d4c4e45a-641f-43d4-ebe5-34685d4656b5"
      },
      "execution_count": null,
      "outputs": [
        {
          "output_type": "execute_result",
          "data": {
            "text/plain": [
              "-2.12539119881113"
            ],
            "text/latex": "$\\displaystyle -2.12539119881113$"
          },
          "metadata": {},
          "execution_count": 29
        }
      ]
    },
    {
      "cell_type": "markdown",
      "source": [
        "How do we find the bifurcation point?"
      ],
      "metadata": {
        "id": "gmG5GhX3laYQ"
      }
    },
    {
      "cell_type": "code",
      "source": [
        "from sympy import Symbol, solve, LambertW\n",
        "\n",
        "x = Symbol('x')\n",
        "\n",
        "try:\n",
        "    solve(LambertW(x, 0) - LambertW(x, -1), x)\n",
        "except:\n",
        "    pass"
      ],
      "metadata": {
        "id": "W3y3IK53goe3"
      },
      "execution_count": null,
      "outputs": []
    },
    {
      "cell_type": "markdown",
      "source": [
        "This didn't work.  The branches are not defined on the same set.  I looked to the wikepeida page and saw that the branch cut happens at $\\frac{-1}{e}$."
      ],
      "metadata": {
        "id": "E0eD4yl4oBa7"
      }
    },
    {
      "cell_type": "code",
      "source": [
        "N(LambertW(-1/E,0)-LambertW(-1/E,-1))"
      ],
      "metadata": {
        "id": "Oz1vUWBGlqci",
        "outputId": "abb170ae-7fcc-4fd4-d366-523ba04f2a93",
        "colab": {
          "base_uri": "https://localhost:8080/",
          "height": 37
        }
      },
      "execution_count": null,
      "outputs": [
        {
          "output_type": "execute_result",
          "data": {
            "text/plain": [
              "0"
            ],
            "text/latex": "$\\displaystyle 0$"
          },
          "metadata": {},
          "execution_count": 50
        }
      ]
    },
    {
      "cell_type": "code",
      "source": [
        "N(LambertW(-1/E,-1))"
      ],
      "metadata": {
        "id": "259GOH7dmX8H",
        "outputId": "6181f973-184c-478d-a637-ad759bdc50b0",
        "colab": {
          "base_uri": "https://localhost:8080/",
          "height": 37
        }
      },
      "execution_count": null,
      "outputs": [
        {
          "output_type": "execute_result",
          "data": {
            "text/plain": [
              "-1.00000000000000"
            ],
            "text/latex": "$\\displaystyle -1.0$"
          },
          "metadata": {},
          "execution_count": 55
        }
      ]
    },
    {
      "cell_type": "code",
      "source": [
        "solve(-E**(-a/b)/b+1,a)"
      ],
      "metadata": {
        "id": "nhhqK0TVngE1",
        "outputId": "2ab7499e-9dd3-49d3-b942-cfcfc2fdc3d9",
        "colab": {
          "base_uri": "https://localhost:8080/"
        }
      },
      "execution_count": null,
      "outputs": [
        {
          "output_type": "execute_result",
          "data": {
            "text/plain": [
              "[b*log(1/b)]"
            ]
          },
          "metadata": {},
          "execution_count": 58
        }
      ]
    },
    {
      "cell_type": "markdown",
      "source": [
        "The above is the value for $a$ (int terms of $b$) in which the bifurcation occurs"
      ],
      "metadata": {
        "id": "MvG67TtIo4IT"
      }
    },
    {
      "cell_type": "code",
      "source": [],
      "metadata": {
        "id": "ZLGpSfSsomjE"
      },
      "execution_count": null,
      "outputs": []
    }
  ]
}